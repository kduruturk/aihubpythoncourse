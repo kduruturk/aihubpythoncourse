{
 "cells": [
  {
   "cell_type": "code",
   "execution_count": 41,
   "metadata": {},
   "outputs": [
    {
     "name": "stdout",
     "output_type": "stream",
     "text": [
      "user identification\n",
      "First nameKEM\n",
      "Last NameDURU\n",
      "Age18\n",
      "Date of Birth1982\n",
      "First name KEM\n",
      "Last Name DURU\n",
      "Age 18\n",
      "Date of Birth 1982\n",
      "you can go out to the street\n"
     ]
    }
   ],
   "source": [
    "print(\"user identification\")\n",
    "\n",
    "info = [\"First name\", \"Last Name\", \"Age\", \"Date of Birth\"]\n",
    "user = []\n",
    "k=0\n",
    "for i in range(len(info)):\n",
    "        userinfo = input(info[k])\n",
    "        k+=1\n",
    "        user.append(userinfo)\n",
    "           \n",
    "z = 0     \n",
    "for i in range(len(info)):\n",
    "    print(info[z] + \" \" + user[z])\n",
    "    z+=1\n",
    "if int(user[2])<18:\n",
    "    print(\"You can't go because it's too dangerous\")\n",
    "else:\n",
    "    print(\"you can go out to the street\")\n",
    "\n"
   ]
  },
  {
   "cell_type": "code",
   "execution_count": null,
   "metadata": {},
   "outputs": [],
   "source": []
  }
 ],
 "metadata": {
  "kernelspec": {
   "display_name": "Python 3",
   "language": "python",
   "name": "python3"
  },
  "language_info": {
   "codemirror_mode": {
    "name": "ipython",
    "version": 3
   },
   "file_extension": ".py",
   "mimetype": "text/x-python",
   "name": "python",
   "nbconvert_exporter": "python",
   "pygments_lexer": "ipython3",
   "version": "3.8.5"
  }
 },
 "nbformat": 4,
 "nbformat_minor": 4
}
