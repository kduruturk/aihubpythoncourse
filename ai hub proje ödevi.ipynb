{
 "cells": [
  {
   "cell_type": "code",
   "execution_count": 104,
   "metadata": {},
   "outputs": [
    {
     "name": "stdout",
     "output_type": "stream",
     "text": [
      "Enter Name:KEMAL\n",
      "Enter Surname:DURU\n"
     ]
    }
   ],
   "source": [
    "check = False\n",
    "for i in range(3):\n",
    "    name = str(input(\"Enter Name:\"))\n",
    "    sname = str(input(\"Enter Surname:\"))\n",
    "    if len(name) > 0:\n",
    "        check = True\n",
    "        break\n",
    "    elif len(name) == 0:\n",
    "     print(\"Incorrect Entry\")\n",
    "    elif len(sname) == 0:\n",
    "     print(\"Incorrect Entry\")\n",
    "if not check:\n",
    " print(\"Please try again later\")\n",
    "\n"
   ]
  },
  {
   "cell_type": "code",
   "execution_count": 105,
   "metadata": {},
   "outputs": [
    {
     "name": "stdout",
     "output_type": "stream",
     "text": [
      "Enter the courses to take (min 3):\n",
      "Course 1 :\n",
      "ENG\n",
      "Course 2 :\n",
      "CHEM\n",
      "Course 3 :\n",
      "GEO\n",
      "Course 4 :\n",
      "\n",
      "Course 5 :\n",
      "\n",
      "['ENG', 'CHEM', 'GEO']  are recorded\n"
     ]
    }
   ],
   "source": [
    "print(\"Enter the courses to take (min 3):\")\n",
    "courses = []\n",
    "for i in range(1, 6):\n",
    "    print(\"Course\", i, \":\")\n",
    "    item = str(input())\n",
    "    if len(item) > 0:\n",
    "        courses.append(item)\n",
    "if len(courses) < 3:\n",
    "    print(\"you failed in class\")\n",
    "else:\n",
    "    print(courses, \" are recorded\")"
   ]
  },
  {
   "cell_type": "code",
   "execution_count": 106,
   "metadata": {},
   "outputs": [
    {
     "name": "stdout",
     "output_type": "stream",
     "text": [
      "Choose the course to enter grades:CHEM\n",
      "Enter midterm :\n",
      "90\n",
      "Enter final :\n",
      "70\n",
      "Enter project :\n",
      "50\n",
      "{'midterm': 90, 'final': 70, 'project': 50}\n"
     ]
    }
   ],
   "source": [
    "check = True\n",
    "while True:\n",
    "    gradecourse = str(input(\"Choose the course to enter grades:\"))\n",
    "    if gradecourse in courses:\n",
    "        break\n",
    "    else:\n",
    "        print(\"Please choose a course from the list\")\n",
    "exams = [\"midterm\", \"final\", \"project\"]\n",
    "grades = []\n",
    "for j in range(len(exams)):\n",
    "    check = False\n",
    "    while True: \n",
    "        print(\"Enter\", exams[j], \":\")\n",
    "        item2 = int(input())\n",
    "        if 0 <= item2 <= 100:\n",
    "            grades.append(item2)\n",
    "            check = True\n",
    "            break\n",
    "        else: print(\"Please enter a number between 0 and 100\")\n",
    "dictionary = {exams[i]: grades[i] for i in range(len(exams))}\n",
    "print(dictionary)"
   ]
  },
  {
   "cell_type": "code",
   "execution_count": 124,
   "metadata": {},
   "outputs": [
    {
     "name": "stdout",
     "output_type": "stream",
     "text": [
      "Dear  KEMAL   DURU ,\n",
      "You got BB Congats!\n"
     ]
    }
   ],
   "source": [
    "def gradecalc(midterm, final, project):\n",
    "    print(\"Dear \", name, \" \", sname, \",\")\n",
    "    grade = (midterm*0.3)+(final*0.5)+(project*0.2)\n",
    "    if grade >= 90: grade = \"AA\"\n",
    "    elif 70 <= grade < 90: grade = \"BB\"\n",
    "    elif 50 <= grade < 70: grade = \"CC\"\n",
    "    elif 30 <= grade < 50: grade = \"DD\"\n",
    "    elif grade < 30: \n",
    "        grade = \"FF\"\n",
    "        print(\"You got\", grade, \"You failed!\")\n",
    "    print(\"You got\", grade, \"Congats!\")\n",
    "        \n",
    "gradecalc(*grades)"
   ]
  },
  {
   "cell_type": "code",
   "execution_count": null,
   "metadata": {},
   "outputs": [],
   "source": []
  },
  {
   "cell_type": "code",
   "execution_count": null,
   "metadata": {},
   "outputs": [],
   "source": []
  }
 ],
 "metadata": {
  "kernelspec": {
   "display_name": "Python 3",
   "language": "python",
   "name": "python3"
  },
  "language_info": {
   "codemirror_mode": {
    "name": "ipython",
    "version": 3
   },
   "file_extension": ".py",
   "mimetype": "text/x-python",
   "name": "python",
   "nbconvert_exporter": "python",
   "pygments_lexer": "ipython3",
   "version": "3.8.5"
  }
 },
 "nbformat": 4,
 "nbformat_minor": 4
}
