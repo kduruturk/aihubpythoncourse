{
 "cells": [
  {
   "cell_type": "code",
   "execution_count": 7,
   "metadata": {},
   "outputs": [
    {
     "name": "stdout",
     "output_type": "stream",
     "text": [
      "input1: 1\n",
      "input2: 2,3,4\n",
      "input3: {ali: 1, kemal: 4}\n",
      "input4: kja\n",
      "input5: 4.5\n",
      "input1 :1 type: <class 'str'>\n",
      "input2 :2,3,4 type: <class 'str'>\n",
      "input3 :{ali: 1, kemal: 4} type: <class 'str'>\n",
      "input4 :kja type: <class 'str'>\n",
      "input5 :4.5 type: <class 'str'>\n"
     ]
    }
   ],
   "source": [
    "input1 = input(\"input1: \")\n",
    "type1 = type(input1)\n",
    "input2 = input(\"input2: \")\n",
    "input3 = input(\"input3: \")\n",
    "input4 = input(\"input4: \")\n",
    "input5 = input(\"input5: \")\n",
    "print(\"input1 :{} type: {}\".format(input1, type1))\n",
    "print(\"input2 :{} type: {}\".format(input2, type1))\n",
    "print(\"input3 :{} type: {}\".format(input3, type1))\n",
    "print(\"input4 :{} type: {}\".format(input4, type1))\n",
    "print(\"input5 :{} type: {}\".format(input5, type1))\n"
   ]
  },
  {
   "cell_type": "code",
   "execution_count": null,
   "metadata": {},
   "outputs": [],
   "source": []
  }
 ],
 "metadata": {
  "kernelspec": {
   "display_name": "Python 3",
   "language": "python",
   "name": "python3"
  },
  "language_info": {
   "codemirror_mode": {
    "name": "ipython",
    "version": 3
   },
   "file_extension": ".py",
   "mimetype": "text/x-python",
   "name": "python",
   "nbconvert_exporter": "python",
   "pygments_lexer": "ipython3",
   "version": "3.8.5"
  }
 },
 "nbformat": 4,
 "nbformat_minor": 4
}
